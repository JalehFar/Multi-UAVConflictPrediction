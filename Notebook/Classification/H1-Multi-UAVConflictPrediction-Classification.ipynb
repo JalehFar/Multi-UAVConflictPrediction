{
 "cells": [
  {
   "cell_type": "markdown",
   "id": "9e2ba7e1",
   "metadata": {},
   "source": [
    "# Importing Needed packages"
   ]
  },
  {
   "cell_type": "code",
   "execution_count": 2,
   "id": "86e60fd0",
   "metadata": {},
   "outputs": [
    {
     "name": "stdout",
     "output_type": "stream",
     "text": [
      "Libraries imported.\n"
     ]
    }
   ],
   "source": [
    "import random\n",
    "import numpy as np\n",
    "import pandas as pd\n",
    "import sklearn.metrics \n",
    "from imblearn.over_sampling import RandomOverSampler\n",
    "from sklearn.metrics import accuracy_score\n",
    "from sklearn import datasets\n",
    "from sklearn.model_selection import train_test_split, ShuffleSplit \n",
    "from sklearn import svm\n",
    "from sklearn.neighbors import KNeighborsClassifier\n",
    "from collections import Counter\n",
    "from sklearn.metrics import classification_report, confusion_matrix\n",
    "from sklearn.utils.multiclass import unique_labels\n",
    "import matplotlib.pyplot as plt\n",
    "from scipy.stats import norm\n",
    "import statistics\n",
    "print(\"Libraries imported.\")"
   ]
  },
  {
   "cell_type": "markdown",
   "id": "6f0841fd",
   "metadata": {},
   "source": [
    "# Reading Data"
   ]
  },
  {
   "cell_type": "markdown",
   "id": "6e4cd624",
   "metadata": {},
   "source": [
    "Reading the data from CSV file using pandas:\n",
    "To use scikit-learn library, we have to convert the Pandas data frame to a Numpy array:"
   ]
  },
  {
   "cell_type": "markdown",
   "id": "e60c8727",
   "metadata": {},
   "source": [
    "### `train_set.csv:`"
   ]
  },
  {
   "cell_type": "markdown",
   "id": "896afb38",
   "metadata": {},
   "source": [
    "- UAV_i_track: clockwise angle from north between the ith UAV\n",
    "and its target (0, 2π):\n",
    "- UAV_i_x, UAV_i_y: position components of the ith UAV in\n",
    "meters\n",
    "- UAV_i_vx, UAV_i_vy (dx, dy): speed components of the ith UAV\n",
    "in meters/seconds\n",
    "- UAV_i_target_x, UAV_i_target_y: position components of the\n",
    "ith UAV target in meters"
   ]
  },
  {
   "cell_type": "code",
   "execution_count": 3,
   "id": "e95b2982",
   "metadata": {},
   "outputs": [
    {
     "name": "stdout",
     "output_type": "stream",
     "text": [
      "File loaded:\n",
      "(1000, 37)\n"
     ]
    },
    {
     "data": {
      "text/html": [
       "<div>\n",
       "<style scoped>\n",
       "    .dataframe tbody tr th:only-of-type {\n",
       "        vertical-align: middle;\n",
       "    }\n",
       "\n",
       "    .dataframe tbody tr th {\n",
       "        vertical-align: top;\n",
       "    }\n",
       "\n",
       "    .dataframe thead th {\n",
       "        text-align: right;\n",
       "    }\n",
       "</style>\n",
       "<table border=\"1\" class=\"dataframe\">\n",
       "  <thead>\n",
       "    <tr style=\"text-align: right;\">\n",
       "      <th></th>\n",
       "      <th>UAV_1_track</th>\n",
       "      <th>UAV_1_x</th>\n",
       "      <th>UAV_1_y</th>\n",
       "      <th>UAV_1_vx</th>\n",
       "      <th>UAV_1_vy</th>\n",
       "      <th>UAV_1_target_x</th>\n",
       "      <th>UAV_1_target_y</th>\n",
       "      <th>UAV_2_track</th>\n",
       "      <th>UAV_2_x</th>\n",
       "      <th>UAV_2_y</th>\n",
       "      <th>...</th>\n",
       "      <th>UAV_4_target_y</th>\n",
       "      <th>UAV_5_track</th>\n",
       "      <th>UAV_5_x</th>\n",
       "      <th>UAV_5_y</th>\n",
       "      <th>UAV_5_vx</th>\n",
       "      <th>UAV_5_vy</th>\n",
       "      <th>UAV_5_target_x</th>\n",
       "      <th>UAV_5_target_y</th>\n",
       "      <th>num_collisions</th>\n",
       "      <th>min_CPA</th>\n",
       "    </tr>\n",
       "  </thead>\n",
       "  <tbody>\n",
       "    <tr>\n",
       "      <th>0</th>\n",
       "      <td>0.027068</td>\n",
       "      <td>-62300.591721</td>\n",
       "      <td>-59305.682068</td>\n",
       "      <td>6.705684</td>\n",
       "      <td>247.671970</td>\n",
       "      <td>-59569.480482</td>\n",
       "      <td>41566.912694</td>\n",
       "      <td>1.474570</td>\n",
       "      <td>-56681.475086</td>\n",
       "      <td>-5314.787648</td>\n",
       "      <td>...</td>\n",
       "      <td>42576.874951</td>\n",
       "      <td>1.607547</td>\n",
       "      <td>-80967.561432</td>\n",
       "      <td>37684.582412</td>\n",
       "      <td>213.175442</td>\n",
       "      <td>-7.837820</td>\n",
       "      <td>41342.567045</td>\n",
       "      <td>33187.606489</td>\n",
       "      <td>3</td>\n",
       "      <td>1673.734894</td>\n",
       "    </tr>\n",
       "    <tr>\n",
       "      <th>1</th>\n",
       "      <td>4.023101</td>\n",
       "      <td>-17220.612570</td>\n",
       "      <td>47439.586909</td>\n",
       "      <td>-167.653031</td>\n",
       "      <td>-138.169553</td>\n",
       "      <td>-98139.258988</td>\n",
       "      <td>-19248.698541</td>\n",
       "      <td>2.614451</td>\n",
       "      <td>33573.808959</td>\n",
       "      <td>51374.559396</td>\n",
       "      <td>...</td>\n",
       "      <td>-35144.579226</td>\n",
       "      <td>4.315806</td>\n",
       "      <td>13285.311651</td>\n",
       "      <td>-41245.545752</td>\n",
       "      <td>-196.978758</td>\n",
       "      <td>-82.489078</td>\n",
       "      <td>-2806.112817</td>\n",
       "      <td>-47984.174724</td>\n",
       "      <td>0</td>\n",
       "      <td>51230.547792</td>\n",
       "    </tr>\n",
       "    <tr>\n",
       "      <th>2</th>\n",
       "      <td>1.841994</td>\n",
       "      <td>-19900.350438</td>\n",
       "      <td>59030.833595</td>\n",
       "      <td>208.716697</td>\n",
       "      <td>-58.033328</td>\n",
       "      <td>70435.277561</td>\n",
       "      <td>33913.163359</td>\n",
       "      <td>2.492568</td>\n",
       "      <td>-53314.291038</td>\n",
       "      <td>-15227.414024</td>\n",
       "      <td>...</td>\n",
       "      <td>-23468.668544</td>\n",
       "      <td>0.954796</td>\n",
       "      <td>21679.563309</td>\n",
       "      <td>-34471.154448</td>\n",
       "      <td>208.580726</td>\n",
       "      <td>147.651921</td>\n",
       "      <td>78980.509691</td>\n",
       "      <td>6091.533217</td>\n",
       "      <td>0</td>\n",
       "      <td>18668.177773</td>\n",
       "    </tr>\n",
       "    <tr>\n",
       "      <th>3</th>\n",
       "      <td>3.621532</td>\n",
       "      <td>-48565.126583</td>\n",
       "      <td>-11986.418570</td>\n",
       "      <td>-113.516305</td>\n",
       "      <td>-218.076997</td>\n",
       "      <td>-60503.694386</td>\n",
       "      <td>-34921.687695</td>\n",
       "      <td>4.941877</td>\n",
       "      <td>66081.722767</td>\n",
       "      <td>-13048.091807</td>\n",
       "      <td>...</td>\n",
       "      <td>42374.513704</td>\n",
       "      <td>4.056282</td>\n",
       "      <td>-31560.842269</td>\n",
       "      <td>36234.825255</td>\n",
       "      <td>-184.415246</td>\n",
       "      <td>-141.978597</td>\n",
       "      <td>-61666.394619</td>\n",
       "      <td>13057.001319</td>\n",
       "      <td>0</td>\n",
       "      <td>10159.624794</td>\n",
       "    </tr>\n",
       "    <tr>\n",
       "      <th>4</th>\n",
       "      <td>2.318417</td>\n",
       "      <td>52665.281329</td>\n",
       "      <td>-47498.516869</td>\n",
       "      <td>177.796999</td>\n",
       "      <td>-164.846698</td>\n",
       "      <td>63901.656021</td>\n",
       "      <td>-57916.461362</td>\n",
       "      <td>5.084740</td>\n",
       "      <td>-8541.183540</td>\n",
       "      <td>3543.309665</td>\n",
       "      <td>...</td>\n",
       "      <td>26128.828499</td>\n",
       "      <td>2.515598</td>\n",
       "      <td>18186.463747</td>\n",
       "      <td>79639.001255</td>\n",
       "      <td>133.007662</td>\n",
       "      <td>-183.966901</td>\n",
       "      <td>63306.445359</td>\n",
       "      <td>17232.196700</td>\n",
       "      <td>0</td>\n",
       "      <td>22110.623878</td>\n",
       "    </tr>\n",
       "  </tbody>\n",
       "</table>\n",
       "<p>5 rows × 37 columns</p>\n",
       "</div>"
      ],
      "text/plain": [
       "   UAV_1_track       UAV_1_x       UAV_1_y    UAV_1_vx    UAV_1_vy  \\\n",
       "0     0.027068 -62300.591721 -59305.682068    6.705684  247.671970   \n",
       "1     4.023101 -17220.612570  47439.586909 -167.653031 -138.169553   \n",
       "2     1.841994 -19900.350438  59030.833595  208.716697  -58.033328   \n",
       "3     3.621532 -48565.126583 -11986.418570 -113.516305 -218.076997   \n",
       "4     2.318417  52665.281329 -47498.516869  177.796999 -164.846698   \n",
       "\n",
       "   UAV_1_target_x  UAV_1_target_y  UAV_2_track       UAV_2_x       UAV_2_y  \\\n",
       "0   -59569.480482    41566.912694     1.474570 -56681.475086  -5314.787648   \n",
       "1   -98139.258988   -19248.698541     2.614451  33573.808959  51374.559396   \n",
       "2    70435.277561    33913.163359     2.492568 -53314.291038 -15227.414024   \n",
       "3   -60503.694386   -34921.687695     4.941877  66081.722767 -13048.091807   \n",
       "4    63901.656021   -57916.461362     5.084740  -8541.183540   3543.309665   \n",
       "\n",
       "   ...  UAV_4_target_y  UAV_5_track       UAV_5_x       UAV_5_y    UAV_5_vx  \\\n",
       "0  ...    42576.874951     1.607547 -80967.561432  37684.582412  213.175442   \n",
       "1  ...   -35144.579226     4.315806  13285.311651 -41245.545752 -196.978758   \n",
       "2  ...   -23468.668544     0.954796  21679.563309 -34471.154448  208.580726   \n",
       "3  ...    42374.513704     4.056282 -31560.842269  36234.825255 -184.415246   \n",
       "4  ...    26128.828499     2.515598  18186.463747  79639.001255  133.007662   \n",
       "\n",
       "     UAV_5_vy  UAV_5_target_x  UAV_5_target_y  num_collisions       min_CPA  \n",
       "0   -7.837820    41342.567045    33187.606489               3   1673.734894  \n",
       "1  -82.489078    -2806.112817   -47984.174724               0  51230.547792  \n",
       "2  147.651921    78980.509691     6091.533217               0  18668.177773  \n",
       "3 -141.978597   -61666.394619    13057.001319               0  10159.624794  \n",
       "4 -183.966901    63306.445359    17232.196700               0  22110.623878  \n",
       "\n",
       "[5 rows x 37 columns]"
      ]
     },
     "execution_count": 3,
     "metadata": {},
     "output_type": "execute_result"
    }
   ],
   "source": [
    "DB = pd.read_csv('train_set.csv')\n",
    "dataset_name = \"UAV_Conflict\"\n",
    "class_names = np.array(['num_collisions=0','num_collisions=1','num_collisions=2','num_collisions=3', 'num_collisions=4'])\n",
    "X_all = np.asarray(DB[['UAV_1_track', 'UAV_1_x', 'UAV_1_y', 'UAV_1_vx', 'UAV_1_vy', 'UAV_1_target_x', 'UAV_1_target_y',\n",
    "         'UAV_2_track', 'UAV_2_x', 'UAV_2_y', 'UAV_2_vx', 'UAV_2_vy', 'UAV_2_target_x', 'UAV_2_target_y',\n",
    "         'UAV_3_track', 'UAV_3_x', 'UAV_3_y', 'UAV_3_vx', 'UAV_3_vy', 'UAV_3_target_x', 'UAV_3_target_y',\n",
    "         'UAV_4_track', 'UAV_4_x', 'UAV_4_y', 'UAV_4_vx', 'UAV_4_vy', 'UAV_4_target_x', 'UAV_4_target_y',\n",
    "         'UAV_5_track', 'UAV_5_x', 'UAV_5_y', 'UAV_5_vx', 'UAV_5_vy', 'UAV_5_target_x', 'UAV_5_target_y']])\n",
    "y_all = np.asarray(DB['num_collisions'])\n",
    "print('File loaded:'  )\n",
    "print(DB.shape)\n",
    "DB.head()"
   ]
  },
  {
   "cell_type": "markdown",
   "id": "b1fbb4e4",
   "metadata": {},
   "source": [
    "# Data Analysis"
   ]
  },
  {
   "cell_type": "markdown",
   "id": "934189c0",
   "metadata": {},
   "source": [
    "Let’s see how many of each class is in our data set"
   ]
  },
  {
   "cell_type": "code",
   "execution_count": 4,
   "id": "cc00fd34",
   "metadata": {},
   "outputs": [
    {
     "data": {
      "text/plain": [
       "0    538\n",
       "1    333\n",
       "2     96\n",
       "3     30\n",
       "4      3\n",
       "Name: num_collisions, dtype: int64"
      ]
     },
     "execution_count": 4,
     "metadata": {},
     "output_type": "execute_result"
    }
   ],
   "source": [
    "DB['num_collisions'].value_counts()"
   ]
  },
  {
   "cell_type": "markdown",
   "id": "fb30d89a",
   "metadata": {},
   "source": [
    "You can easily explore your data using visualization techniques:"
   ]
  },
  {
   "cell_type": "code",
   "execution_count": 5,
   "id": "6a96c0d6",
   "metadata": {
    "scrolled": true
   },
   "outputs": [
    {
     "data": {
      "text/plain": [
       "array([[<AxesSubplot: title={'center': 'num_collisions'}>]], dtype=object)"
      ]
     },
     "execution_count": 5,
     "metadata": {},
     "output_type": "execute_result"
    },
    {
     "data": {
      "image/png": "[encoded data removed]",
      "text/plain": [
       "<Figure size 640x480 with 1 Axes>"
      ]
     },
     "metadata": {},
     "output_type": "display_data"
    }
   ],
   "source": [
    "DB.hist(column='num_collisions', bins=50)"
   ]
  },
  {
   "cell_type": "markdown",
   "id": "2d249f9d",
   "metadata": {},
   "source": [
    "As you can see our dataset is unbalanced so we have to balance it."
   ]
  },
  {
   "cell_type": "markdown",
   "id": "c1b22328",
   "metadata": {},
   "source": [
    "# Balancing dataset"
   ]
  },
  {
   "cell_type": "markdown",
   "id": "8373af8f",
   "metadata": {},
   "source": [
    "### Random over-sampling with imblearn:"
   ]
  },
  {
   "cell_type": "markdown",
   "id": "e8ccbe7c",
   "metadata": {},
   "source": [
    "One way to fight imbalance data is to generate new samples in the minority classes. The most naive strategy is to generate new samples by randomly sampling with replacement of the currently available samples. The RandomOverSampler offers such a scheme."
   ]
  },
  {
   "cell_type": "code",
   "execution_count": 6,
   "id": "c01139fb",
   "metadata": {},
   "outputs": [
    {
     "name": "stdout",
     "output_type": "stream",
     "text": [
      "Original dataset shape Counter({0: 538, 1: 333, 2: 96, 3: 30, 4: 3})\n",
      "Resample dataset shape Counter({3: 538, 0: 538, 1: 538, 2: 538, 4: 538})\n"
     ]
    }
   ],
   "source": [
    "ros = RandomOverSampler(random_state=42)\n",
    "X_ros, y_ros = ros.fit_resample(X_all, y_all)\n",
    "# fit predictor and target variable\n",
    "\n",
    "print('Original dataset shape', Counter(y_all))\n",
    "print('Resample dataset shape', Counter(y_ros))"
   ]
  },
  {
   "cell_type": "markdown",
   "id": "8a369fff",
   "metadata": {},
   "source": [
    "We should normalize the data too:"
   ]
  },
  {
   "cell_type": "markdown",
   "id": "53220ae3",
   "metadata": {},
   "source": [
    "# Normalizing the dataset:"
   ]
  },
  {
   "cell_type": "markdown",
   "id": "d90f54dd",
   "metadata": {},
   "source": [
    "Data Standardization gives the data zero mean and unit variance, it is good practice, especially for algorithms such as KNN which is based on the distance of data points:"
   ]
  },
  {
   "cell_type": "code",
   "execution_count": 7,
   "id": "00e9419a",
   "metadata": {},
   "outputs": [],
   "source": [
    "from sklearn import preprocessing\n",
    "scaler = preprocessing.StandardScaler().fit(X_ros)\n",
    "X_ros = scaler.transform(X_ros.astype(float))"
   ]
  },
  {
   "cell_type": "markdown",
   "id": "48cc623f",
   "metadata": {},
   "source": [
    "# Summary of the dataset"
   ]
  },
  {
   "cell_type": "markdown",
   "id": "2f17c411",
   "metadata": {},
   "source": [
    "Print some information about the dataset.\n",
    "\n",
    "Data structures\n",
    "\n",
    "- Input X: array ( n x m )\n",
    "- Output Y: array ( n x 1 )"
   ]
  },
  {
   "cell_type": "code",
   "execution_count": 8,
   "id": "90a8b26a",
   "metadata": {},
   "outputs": [
    {
     "name": "stdout",
     "output_type": "stream",
     "text": [
      "Dataset: UAV_Conflict\n",
      "Input shape: (2690, 35)\n",
      "Output shape: (2690,)\n",
      "Number of attributes/features: 35\n",
      "Number of classes: 5 ['num_collisions=0' 'num_collisions=1' 'num_collisions=2'\n",
      " 'num_collisions=3' 'num_collisions=4']\n",
      "Number of samples: 2690\n"
     ]
    }
   ],
   "source": [
    "print(\"Dataset: %s\" %(dataset_name))\n",
    "print(\"Input shape: %s\" %str(X_ros.shape))\n",
    "print(\"Output shape: %s\" %str(y_ros.shape))\n",
    "print(\"Number of attributes/features: %d\" %(X_ros.shape[1]))\n",
    "print(\"Number of classes: %d %s\" %(len(class_names), str(class_names)))\n",
    "print(\"Number of samples: %d\" %(X_ros.shape[0]))"
   ]
  },
  {
   "cell_type": "markdown",
   "id": "ed3bbd6b",
   "metadata": {},
   "source": [
    "# Train/Test dataset"
   ]
  },
  {
   "cell_type": "markdown",
   "id": "85453cd5",
   "metadata": {},
   "source": [
    "We split our dataset into train and test set:"
   ]
  },
  {
   "cell_type": "code",
   "execution_count": 9,
   "id": "9aa5f06d",
   "metadata": {},
   "outputs": [
    {
     "name": "stdout",
     "output_type": "stream",
     "text": [
      "Size of training set: 1794\n",
      "Size of test set: 896\n",
      "First training sample\n",
      "    x_train_0 = array([-0.36308684, -1.10234018,  1.14421957,  0.69412201, -1.03177579,\n",
      "        0.8512236 , -1.43548964,  0.34439227,  0.29358284, -0.08834921,\n",
      "       -0.56277083, -1.20110554, -0.5189308 , -1.60464294,  0.77769774,\n",
      "        1.10570247,  0.07904294, -1.22368917, -0.03299995, -1.2163406 ,\n",
      "       -0.10589764, -0.55479167, -1.13258878, -0.32138638,  1.17873374,\n",
      "       -0.82241   ,  0.87201784, -1.40628444,  1.16211084,  0.52529542,\n",
      "       -1.48046366, -0.87724019,  0.87084082, -1.1468489 ,  0.09464698])\n",
      "    y_train_0 = 4 ['num_collisions=4']\n",
      "First test sample\n",
      "    x_test_0 = array([-0.74916023, -0.84039734,  0.63652728,  1.31035822, -0.31322971,\n",
      "        0.90709184,  0.20821739, -1.38412649, -0.24390531, -1.8792323 ,\n",
      "        0.52803445,  1.36792257,  0.76941069,  0.97813471, -0.11524155,\n",
      "        0.1733333 ,  1.01148226,  0.22404143, -1.19270785,  0.53778355,\n",
      "       -1.34019383, -1.41590178,  0.00875108, -0.46041173,  0.45344498,\n",
      "        1.13128511,  0.66420128,  1.25291446, -0.98793864, -1.02504114,\n",
      "       -0.36967819,  1.26339501, -0.04405005,  0.87382395, -0.46246127])\n",
      "    y_test_0 = 4 ['num_collisions=4']\n"
     ]
    }
   ],
   "source": [
    "X_train, X_test, y_train, y_test = train_test_split(X_ros, y_ros, test_size=0.333, \n",
    "                                                    random_state=117)\n",
    "\n",
    "print(\"Size of training set: %d\" %X_train.shape[0])\n",
    "print(\"Size of test set: %d\" %X_test.shape[0])\n",
    "\n",
    "print('First training sample')\n",
    "id = 0\n",
    "print(\"    x_train_%d = %r\" %(id,X_train[id]))\n",
    "print(\"    y_train_%d = %r ['%s']\" %(id,y_train[id],class_names[y_train[id]]))\n",
    "\n",
    "print('First test sample')\n",
    "id = 0\n",
    "print(\"    x_test_%d = %r\" %(id,X_test[id]))\n",
    "print(\"    y_test_%d = %r ['%s']\" %(id,y_test[id],class_names[y_test[id]]))"
   ]
  },
  {
   "cell_type": "markdown",
   "id": "0097137b",
   "metadata": {},
   "source": [
    "# Modeling "
   ]
  },
  {
   "cell_type": "markdown",
   "id": "54db4c84",
   "metadata": {},
   "source": [
    "## Support Vector Machines"
   ]
  },
  {
   "cell_type": "markdown",
   "id": "1592dc6e",
   "metadata": {},
   "source": [
    "The SVM algorithm offers a choice of kernel functions for performing its processing. Basically, mapping data into a higher dimensional space is called kernelling. The mathematical function used for the transformation is known as the kernel function, and can be of different types, such as:\n",
    "\n",
    "- Linear\n",
    "- Polynomial\n",
    "- Radial basis function (RBF)\n",
    "- Sigmoid"
   ]
  },
  {
   "cell_type": "markdown",
   "id": "d065ef2e",
   "metadata": {},
   "source": [
    "Each of these functions has its characteristics, its pros and cons, and its equation, but as there's no easy way of knowing which function performs best with any given dataset. We usually choose different functions in turn and compare the results. Let's use different kenrnels and compare the results."
   ]
  },
  {
   "cell_type": "code",
   "execution_count": 14,
   "id": "80ae50c0",
   "metadata": {},
   "outputs": [
    {
     "name": "stdout",
     "output_type": "stream",
     "text": [
      "Accuracy of SVM classifier on training set with 6 degree Polynomial kernel: 1.00\n",
      "Accuracy of SVM classifier on test set with 6 degree Polynomial kernel: 0.86\n"
     ]
    }
   ],
   "source": [
    "model = svm.SVC(class_weight='balanced', kernel='poly', degree=6)\n",
    "model.fit(X_train, y_train) \n",
    "print('Accuracy of SVM classifier on training set with 6 degree Polynomial kernel: {:.2f}'\n",
    "     .format(model.score(X_train, y_train)))\n",
    "print('Accuracy of SVM classifier on test set with 6 degree Polynomial kernel: {:.2f}'\n",
    "     .format(model.score(X_test, y_test)))"
   ]
  },
  {
   "cell_type": "markdown",
   "id": "aaa29aa6",
   "metadata": {},
   "source": [
    "## K nearest neighbor (KNN)"
   ]
  },
  {
   "cell_type": "markdown",
   "id": "75e23499",
   "metadata": {},
   "source": [
    "Classifier implementing the k-nearest neighbors vote."
   ]
  },
  {
   "cell_type": "code",
   "execution_count": 21,
   "id": "760ad998",
   "metadata": {},
   "outputs": [
    {
     "name": "stdout",
     "output_type": "stream",
     "text": [
      "Train set Accuracy:  0.7435897435897436\n",
      "Test set Accuracy:  0.6595982142857143\n"
     ]
    }
   ],
   "source": [
    "k = 9\n",
    "#Train Model and Predict  \n",
    "model = KNeighborsClassifier(n_neighbors = k).fit(X_train,y_train)\n",
    "model\n",
    "y_pred=model.predict(X_test)\n",
    "print(\"Train set Accuracy: \", metrics.accuracy_score(y_train, model.predict(X_train)))\n",
    "print(\"Test set Accuracy: \", metrics.accuracy_score(y_test, y_pred))"
   ]
  },
  {
   "cell_type": "code",
   "execution_count": 19,
   "id": "a379aa07",
   "metadata": {},
   "outputs": [
    {
     "name": "stdout",
     "output_type": "stream",
     "text": [
      "[0.81808036 0.77232143 0.72767857 0.6953125  0.6875     0.67857143\n",
      " 0.671875   0.6640625  0.65959821]\n"
     ]
    }
   ],
   "source": [
    "from sklearn import metrics\n",
    "Ks = 10\n",
    "mean_acc = np.zeros((Ks-1))\n",
    "std_acc = np.zeros((Ks-1))\n",
    "\n",
    "for n in range(1,Ks):\n",
    "    \n",
    "    #Train Model and Predict  \n",
    "    model = KNeighborsClassifier(n_neighbors = n).fit(X_train,y_train)\n",
    "    y_pred=model.predict(X_test)\n",
    "    mean_acc[n-1] = metrics.accuracy_score(y_test, y_pred)\n",
    "\n",
    "    \n",
    "    std_acc[n-1]=np.std(y_pred==y_test)/np.sqrt(y_pred.shape[0])\n",
    "\n",
    "print(mean_acc)"
   ]
  },
  {
   "cell_type": "markdown",
   "id": "e9a2c13e",
   "metadata": {},
   "source": [
    "Plot the model accuracy for a different number of neighbors."
   ]
  },
  {
   "cell_type": "code",
   "execution_count": 20,
   "id": "876842ce",
   "metadata": {},
   "outputs": [
    {
     "data": {
      "image/png": "[encoded data removed]",
      "text/plain": [
       "<Figure size 640x480 with 1 Axes>"
      ]
     },
     "metadata": {},
     "output_type": "display_data"
    }
   ],
   "source": [
    "plt.plot(range(1,Ks),mean_acc,'g')\n",
    "plt.fill_between(range(1,Ks),mean_acc - 1 * std_acc,mean_acc + 1 * std_acc, alpha=0.10)\n",
    "plt.fill_between(range(1,Ks),mean_acc - 3 * std_acc,mean_acc + 3 * std_acc, alpha=0.10,color=\"green\")\n",
    "plt.legend(('Accuracy ', '+/- 1xstd','+/- 3xstd'))\n",
    "plt.ylabel('Accuracy ')\n",
    "plt.xlabel('Number of Neighbors (K)')\n",
    "plt.tight_layout()\n",
    "plt.show()"
   ]
  },
  {
   "cell_type": "code",
   "execution_count": 138,
   "id": "5ae3df87",
   "metadata": {},
   "outputs": [
    {
     "name": "stdout",
     "output_type": "stream",
     "text": [
      "The best accuracy was with 0.8180803571428571 with k= 1\n"
     ]
    }
   ],
   "source": [
    "print( \"The best accuracy was with\", mean_acc.max(), \"with k=\", mean_acc.argmax()+1) "
   ]
  },
  {
   "cell_type": "markdown",
   "id": "7bd53568",
   "metadata": {},
   "source": [
    "Now we can predict using our test set:"
   ]
  },
  {
   "cell_type": "markdown",
   "id": "36eac64b",
   "metadata": {},
   "source": [
    "# Predict on test set"
   ]
  },
  {
   "cell_type": "code",
   "execution_count": 16,
   "id": "c4799452",
   "metadata": {},
   "outputs": [],
   "source": [
    "y_pred = model.predict(X_test)"
   ]
  },
  {
   "cell_type": "markdown",
   "id": "481d9308",
   "metadata": {},
   "source": [
    "# Evaluation"
   ]
  },
  {
   "cell_type": "markdown",
   "id": "b8984a25",
   "metadata": {},
   "source": [
    "Evaluation of a specific solution on the test set, comparing predicted values 'y_pred' with test values 'y_test'."
   ]
  },
  {
   "cell_type": "markdown",
   "id": "3dfd4f00",
   "metadata": {},
   "source": [
    "## Accuracy"
   ]
  },
  {
   "cell_type": "code",
   "execution_count": 184,
   "id": "ca1db900",
   "metadata": {
    "scrolled": true
   },
   "outputs": [
    {
     "name": "stdout",
     "output_type": "stream",
     "text": [
      "Accuracy 0.863\n"
     ]
    }
   ],
   "source": [
    "acc = model.score(X_test, y_test)    \n",
    "print(\"Accuracy %.3f\" %acc)"
   ]
  },
  {
   "cell_type": "markdown",
   "id": "1d7b8965",
   "metadata": {},
   "source": [
    "## Precision & Recall"
   ]
  },
  {
   "cell_type": "markdown",
   "id": "5fdbcf5c",
   "metadata": {},
   "source": [
    "Classification report contains more accurate performance information."
   ]
  },
  {
   "cell_type": "code",
   "execution_count": 17,
   "id": "3001ce07",
   "metadata": {},
   "outputs": [
    {
     "name": "stdout",
     "output_type": "stream",
     "text": [
      "              precision    recall  f1-score   support\n",
      "\n",
      "           0       0.60      0.90      0.72       176\n",
      "           1       0.86      0.54      0.67       184\n",
      "           2       0.98      0.88      0.93       187\n",
      "           3       1.00      1.00      1.00       182\n",
      "           4       1.00      1.00      1.00       167\n",
      "\n",
      "    accuracy                           0.86       896\n",
      "   macro avg       0.89      0.87      0.86       896\n",
      "weighted avg       0.89      0.86      0.86       896\n",
      "\n"
     ]
    }
   ],
   "source": [
    "print(classification_report(y_test, y_pred))"
   ]
  },
  {
   "cell_type": "markdown",
   "id": "4a11a09c",
   "metadata": {},
   "source": [
    "Based on the count of each section, we can calculate precision and recall of each label:\n",
    "\n",
    "The F1 score is the harmonic average of the precision and recall, where an F1 score reaches its best value at 1 (perfect precision and recall) and worst at 0. It is a good way to show that a classifer has a good value for both recall and precision.\n",
    "\n",
    "Finally, we can tell the average accuracy for this classifier is the average of the F1-score for the 5 labels, which is 0.82 in KNN case and 0.86 in SVM case."
   ]
  },
  {
   "cell_type": "markdown",
   "id": "670b973e",
   "metadata": {},
   "source": [
    "## Confusion Matrix"
   ]
  },
  {
   "cell_type": "markdown",
   "id": "4e6d8578",
   "metadata": {},
   "source": [
    "A way looking at the accuracy of the classifier is to look at confusion matrix."
   ]
  },
  {
   "cell_type": "code",
   "execution_count": 186,
   "id": "720c5214",
   "metadata": {},
   "outputs": [
    {
     "name": "stdout",
     "output_type": "stream",
     "text": [
      "Confusion Matrix:\n",
      "\n",
      "[[167   0   0   0   0]\n",
      " [  0 182   0   0   0]\n",
      " [  0   0 165   1  21]\n",
      " [  0   0   1 100  83]\n",
      " [  0   0   2  15 159]]\n"
     ]
    }
   ],
   "source": [
    "from sklearn.metrics import classification_report, confusion_matrix\n",
    "import itertools\n",
    "def plot_confusion_matrix(cm, classes,\n",
    "                          normalize=False,\n",
    "                          title='Confusion matrix',\n",
    "                          cmap=plt.cm.Blues):\n",
    "    \"\"\"\n",
    "    This function prints and plots the confusion matrix.\n",
    "    Normalization can be applied by setting `normalize=True`.\n",
    "    \"\"\"\n",
    "    if normalize:\n",
    "        cm = cm.astype('float') / cm.sum(axis=1)[:, np.newaxis]\n",
    "        print(\"Normalized confusion matrix\")\n",
    "    else:\n",
    "        print('Confusion matrix, without normalization')\n",
    "\n",
    "    print(cm)\n",
    "\n",
    "    plt.imshow(cm, interpolation='nearest', cmap=cmap)\n",
    "    plt.title(title)\n",
    "    plt.colorbar()\n",
    "    tick_marks = np.arange(len(classes))\n",
    "    plt.xticks(tick_marks, classes, rotation=45)\n",
    "    plt.yticks(tick_marks, classes)\n",
    "\n",
    "    fmt = '.2f' if normalize else 'd'\n",
    "    thresh = cm.max() / 2.\n",
    "    for i, j in itertools.product(range(cm.shape[0]), range(cm.shape[1])):\n",
    "        plt.text(j, i, format(cm[i, j], fmt),\n",
    "                 horizontalalignment=\"center\",\n",
    "                 color=\"white\" if cm[i, j] > thresh else \"black\")\n",
    "\n",
    "    plt.tight_layout()\n",
    "    plt.ylabel('True label')\n",
    "    plt.xlabel('Predicted label')\n",
    "print('Confusion Matrix:\\n')\n",
    "print(confusion_matrix(y_test, y_pred, labels=[4,3,2,1,0]))"
   ]
  },
  {
   "cell_type": "code",
   "execution_count": 187,
   "id": "760eaffa",
   "metadata": {
    "scrolled": true
   },
   "outputs": [
    {
     "name": "stdout",
     "output_type": "stream",
     "text": [
      "Confusion matrix, without normalization\n",
      "[[167   0   0   0   0]\n",
      " [  0 182   0   0   0]\n",
      " [  0   0 165   1  21]\n",
      " [  0   0   1 100  83]\n",
      " [  0   0   2  15 159]]\n"
     ]
    },
    {
     "data": {
      "image/png": "[encoded data removed]",
      "text/plain": [
       "<Figure size 640x480 with 2 Axes>"
      ]
     },
     "metadata": {},
     "output_type": "display_data"
    }
   ],
   "source": [
    "# Compute confusion matrix\n",
    "cnf_matrix = confusion_matrix(y_test, y_pred, labels=[4,3,2,1,0])\n",
    "np.set_printoptions(precision=2)\n",
    "\n",
    "\n",
    "# Plot non-normalized confusion matrix\n",
    "plt.figure()\n",
    "plot_confusion_matrix(cnf_matrix, classes=['num_collisions=4','num_collisions=3','num_collisions=2','num_collisions=1', 'num_collisions=0'],normalize= False,  title='Confusion matrix')"
   ]
  }
 ],
 "metadata": {
  "kernelspec": {
   "display_name": "Python 3 (ipykernel)",
   "language": "python",
   "name": "python3"
  },
  "language_info": {
   "codemirror_mode": {
    "name": "ipython",
    "version": 3
   },
   "file_extension": ".py",
   "mimetype": "text/x-python",
   "name": "python",
   "nbconvert_exporter": "python",
   "pygments_lexer": "ipython3",
   "version": "3.10.8"
  }
 },
 "nbformat": 4,
 "nbformat_minor": 5
}
